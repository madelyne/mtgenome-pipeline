{
 "cells": [
  {
   "cell_type": "code",
   "execution_count": 4,
   "metadata": {},
   "outputs": [
    {
     "name": "stdout",
     "output_type": "stream",
     "text": [
      "Enter file path to current work directory: /Users/madelyne/Desktop/mtgenome-pipeline/\n",
      "ATGGGCGCGGCTTATTTTGATCAATTTAAAGTAGTGGATTTGATCGCCATCACTAACTCATCGATGATGATGATGTTTGCTGTGGCTGTAGCTCTAATATTGTTAAAGGGAAACCGATTAATTCCTAACCGATGGCAGGCAGTTATGGAGTCGATTTATGATCACTTTCACGGGTTAGTAAAAGATAATTCG---------GGAACCCAATATTTCCCCTTTGTTTTTACTCTCTTTATTTTTATAGTATTTTTAAATATTTTAGGGTTATTCCCTTATGTCTTTACGGTAACAGTTCATGTAGTTGTTACGTTAGGCTTGTCATTTTCAATTGTGATTGGTGTAACTTTAGGTGGGCTTTGGAAATTTAAATGGAACTTTTTAAGTATTCTAATGCCAGCTGGGGCTCCTTTAGCATTAGCCCCTCTTTTAGTATTAATTGAAACAGTAAGTTATATATCTAGAGCTATCTCTTTAGGAGTCCGTCTCGCCGCAAATTTATCTGCTGGTCATTTATTATTTGCCATTCTAGCTGGATTTGGCTTTAATATGTTAACCACGGCCGGCGTTCTTAATATCTTTCCTGTTTTGATTATGGTCTTTATAAGTTTACTAGAGGCCGCAGTAGCGGTTATTCAAGCTTACGTATTTTCTCTGCTTACAACTATTTATTTAGCTGATACCATCGTTTTACACTAAATGTATACTGAGTTTTATGGTATTTTGATTTTATTAATTTTCAGCGTAGTTCTTTCCGCGATTATCTCTGGCGCTTCTTATATTTTAGGAGAGAAACAACCGGATCGAGAGAAAGTGTCAGCTTATGAATGTGGGTTTGATCCTTTTGGAACCCCAGGACGGCCCTTTTCTATTCGGTTTTTCTTAATTGGTATCCTTTTTCTTATTTTTGATTTAGAAATTTCTTTTCTTTTTCCTTGGTGTGTCGTATACAATCAAATTTTTCCTTTTGGTTATTGGACCATGGTCATATTTTTAGCTGTTTTAACTTTGGGTTTAGTCTATGAATGGTTAAAAGGTGGCTTAGAGTGGGAATAAatgattacaatgtatttttttaccttatcatttgggactgttgcctctggaataatggtaatatctgcgcttaatcctgttcattcagtcttttggttagtagttgcctttataagctctgcggccctctttatcttattgggggtagattttattgctttaatgtttataataatatatgtgggagcaatagccatcttatttttgtttgtgataatgatgttaaatttaacggattttactccagcctttcgacgaggaggagaagcagacatgacaaattatgttccaataggactggccgttggtaccctcttttttgaggcaatcgcttctagttggctcattatgggcggcccttatgtttatagaggtttattgggcgcgtgggacttagctaatccttggtttctaaaaaaatatcataatattgaggcaattggacgaatattatacaccgattgttattacctctttattttagttagttttatattattagtggccatgcttggggcaatagtgcttacccaagagatcgggacagaaattggccccacagccaaaaaacaagatatcttcgctcaaactagtcgtgctcaagtctaa------------------------\n"
     ]
    }
   ],
   "source": [
    "from Bio import SeqIO\n",
    "from Bio.Align.Applications import MuscleCommandline\n",
    "from Bio import Align\n",
    "\n",
    "##### \n",
    "#\n",
    "#\n",
    "#\n",
    "#\n",
    "\n",
    "\n",
    "\n",
    "# >>> muscle_exe = r\"C:\\Program Files\\Aligments\\muscle3.8.31_i86win32.exe\"\n",
    "# >>> in_file = r\"C:\\My Documents\\unaligned.fasta\"\n",
    "# >>> out_file = r\"C:\\My Documents\\aligned.fasta\"\n",
    "# >>> muscle_cline = MuscleCommandline(muscle_exe, input=in_file, out=out_file)\n",
    "# >>> print(muscle_cline)\n",
    "\n",
    "# fetch working directory from user\n",
    "file_path = input('Enter file path to current work directory: ')\n",
    "\n",
    "\n",
    "seq_read = SeqIO.read(file_path + 'data/data1.txt', 'fasta')\n",
    "ref_read = SeqIO.read(file_path + 'data/ref.txt', 'fasta')\n",
    "\n",
    "aligner = Align.PairwiseAligner()\n",
    "\n",
    "aligner.mode = 'local'\n",
    "\n",
    "\n",
    "\n",
    "print(seq_read.seq)\n",
    "\n",
    "# fetch reference file name from user\n",
    "# \n",
    "#\n",
    "# /Users/madelyne/Desktop/mtgenome-pipeline/\n"
   ]
  },
  {
   "cell_type": "code",
   "execution_count": null,
   "metadata": {},
   "outputs": [],
   "source": []
  }
 ],
 "metadata": {
  "kernelspec": {
   "display_name": "Python 3",
   "language": "python",
   "name": "python3"
  },
  "language_info": {
   "codemirror_mode": {
    "name": "ipython",
    "version": 3
   },
   "file_extension": ".py",
   "mimetype": "text/x-python",
   "name": "python",
   "nbconvert_exporter": "python",
   "pygments_lexer": "ipython3",
   "version": "3.6.5"
  }
 },
 "nbformat": 4,
 "nbformat_minor": 2
}
