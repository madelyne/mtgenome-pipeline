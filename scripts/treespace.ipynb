{
 "cells": [
  {
   "cell_type": "code",
   "execution_count": 1,
   "metadata": {},
   "outputs": [],
   "source": [
    "#partition sets of Newick trees\n",
    "\n",
    "def partitions_of_set(s):\n",
    "    if len(s) == 1:\n",
    "        yield frozenset(s)\n",
    "        return\n",
    "    # Extract one element from the set\n",
    "    # https://stackoverflow.com/a/43804050/1878788\n",
    "    elem, *_ = s\n",
    "    rest = frozenset(s - {elem})\n",
    "    for partition in partitions_of_set(rest):\n",
    "        for subset in partition:\n",
    "            # Insert the element in the subset\n",
    "            try:\n",
    "                augmented_subset = frozenset(subset | frozenset({elem}))\n",
    "            except TypeError:\n",
    "                # subset is actually an atomic element\n",
    "                augmented_subset = frozenset({subset} | frozenset({elem}))\n",
    "            yield frozenset({augmented_subset}) | (partition - {subset})\n",
    "        # Case with the element in its own extra subset\n",
    "        yield frozenset({elem}) | partition"
   ]
  },
  {
   "cell_type": "code",
   "execution_count": 2,
   "metadata": {},
   "outputs": [],
   "source": [
    "#generate all permutations of nodes\n",
    "\n",
    "from itertools import product\n",
    "def trees(leaves):\n",
    "    if type(leaves) not in (set, frozenset):\n",
    "        # It actually is a single leaf\n",
    "        yield leaves\n",
    "        # Don't try to yield any more trees\n",
    "        return\n",
    "    # Otherwise, we will have to consider all the possible\n",
    "    # partitions of the set of leaves, and for each partition,\n",
    "    # construct the possible trees for each part\n",
    "    for partition in partitions_of_set(leaves):\n",
    "        # We need to skip the case where the partition\n",
    "        # has only one subset (the initial set itself),\n",
    "        # otherwise we will try to build an infinite\n",
    "        # succession of nodes with just one subtree\n",
    "        if len(partition) == 1:\n",
    "            part, *_ = partition\n",
    "            # Just to be sure the assumption is correct\n",
    "            assert part == leaves\n",
    "            continue\n",
    "        # We recursively apply *tree* to each part\n",
    "        # and obtain the possible trees by making\n",
    "        # the product of the sets of possible subtrees.\n",
    "        for subtree in product(*map(trees, partition)):\n",
    "            # Using a frozenset guarantees\n",
    "            # that there will be no duplicates\n",
    "            yield frozenset(subtree)"
   ]
  },
  {
   "cell_type": "code",
   "execution_count": null,
   "metadata": {},
   "outputs": [],
   "source": []
  }
 ],
 "metadata": {
  "kernelspec": {
   "display_name": "Python 3",
   "language": "python",
   "name": "python3"
  },
  "language_info": {
   "codemirror_mode": {
    "name": "ipython",
    "version": 3
   },
   "file_extension": ".py",
   "mimetype": "text/x-python",
   "name": "python",
   "nbconvert_exporter": "python",
   "pygments_lexer": "ipython3",
   "version": "3.6.5"
  }
 },
 "nbformat": 4,
 "nbformat_minor": 2
}
